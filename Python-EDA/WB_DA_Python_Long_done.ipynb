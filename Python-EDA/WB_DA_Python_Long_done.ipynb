{
 "cells": [
  {
   "cell_type": "markdown",
   "metadata": {},
   "source": [
    "\n",
    "<h1>Задание 1</h1>\n",
    "\n",
    "У вас есть небольшой искусственный датасет:    "
   ]
  },
  {
   "cell_type": "code",
   "execution_count": 21,
   "metadata": {},
   "outputs": [],
   "source": [
    "import pandas as pd  # Для работы с таблицами\n",
    "import numpy as np  # Для числовых операций\n",
    "import matplotlib.pyplot as plt  # Для построения графиков\n",
    "import seaborn as sns  # Для более красивой визуализации данных\n",
    "from scipy.stats import pearsonr, spearmanr, chi2_contingency, ttest_ind, f_oneway  # Для проверки статистических гипотез"
   ]
  },
  {
   "cell_type": "code",
   "execution_count": 2,
   "metadata": {},
   "outputs": [],
   "source": [
    "#importing\n",
    "shopping_trends = pd.read_csv('shopping_trends.csv')"
   ]
  },
  {
   "cell_type": "code",
   "execution_count": 4,
   "metadata": {},
   "outputs": [
    {
     "data": {
      "text/plain": [
       "Index(['Customer ID', 'Age', 'Gender', 'Item Purchased', 'Category',\n",
       "       'Purchase Amount (USD)', 'Location', 'Size', 'Color', 'Season',\n",
       "       'Review Rating', 'Subscription Status', 'Payment Method',\n",
       "       'Shipping Type', 'Discount Applied', 'Promo Code Used',\n",
       "       'Previous Purchases', 'Preferred Payment Method',\n",
       "       'Frequency of Purchases'],\n",
       "      dtype='object')"
      ]
     },
     "execution_count": 4,
     "metadata": {},
     "output_type": "execute_result"
    }
   ],
   "source": [
    "#столбцы с которыми можно работать\n",
    "shopping_trends.columns"
   ]
  },
  {
   "cell_type": "code",
   "execution_count": 5,
   "metadata": {},
   "outputs": [
    {
     "name": "stdout",
     "output_type": "stream",
     "text": [
      "<class 'pandas.core.frame.DataFrame'>\n",
      "RangeIndex: 3900 entries, 0 to 3899\n",
      "Data columns (total 19 columns):\n",
      " #   Column                    Non-Null Count  Dtype  \n",
      "---  ------                    --------------  -----  \n",
      " 0   Customer ID               3900 non-null   int64  \n",
      " 1   Age                       3900 non-null   int64  \n",
      " 2   Gender                    3900 non-null   object \n",
      " 3   Item Purchased            3900 non-null   object \n",
      " 4   Category                  3900 non-null   object \n",
      " 5   Purchase Amount (USD)     3900 non-null   int64  \n",
      " 6   Location                  3900 non-null   object \n",
      " 7   Size                      3900 non-null   object \n",
      " 8   Color                     3900 non-null   object \n",
      " 9   Season                    3900 non-null   object \n",
      " 10  Review Rating             3900 non-null   float64\n",
      " 11  Subscription Status       3900 non-null   object \n",
      " 12  Payment Method            3900 non-null   object \n",
      " 13  Shipping Type             3900 non-null   object \n",
      " 14  Discount Applied          3900 non-null   object \n",
      " 15  Promo Code Used           3900 non-null   object \n",
      " 16  Previous Purchases        3900 non-null   int64  \n",
      " 17  Preferred Payment Method  3900 non-null   object \n",
      " 18  Frequency of Purchases    3900 non-null   object \n",
      "dtypes: float64(1), int64(4), object(14)\n",
      "memory usage: 579.0+ KB\n"
     ]
    }
   ],
   "source": [
    "shopping_trends.info()\n",
    "#Проверяем на отсутствие нул значений и смотрим тип каждого столбца"
   ]
  },
  {
   "cell_type": "code",
   "execution_count": 7,
   "metadata": {},
   "outputs": [
    {
     "data": {
      "text/plain": [
       "Customer ID                 0\n",
       "Age                         0\n",
       "Gender                      0\n",
       "Item Purchased              0\n",
       "Category                    0\n",
       "Purchase Amount (USD)       0\n",
       "Location                    0\n",
       "Size                        0\n",
       "Color                       0\n",
       "Season                      0\n",
       "Review Rating               0\n",
       "Subscription Status         0\n",
       "Payment Method              0\n",
       "Shipping Type               0\n",
       "Discount Applied            0\n",
       "Promo Code Used             0\n",
       "Previous Purchases          0\n",
       "Preferred Payment Method    0\n",
       "Frequency of Purchases      0\n",
       "dtype: int64"
      ]
     },
     "execution_count": 7,
     "metadata": {},
     "output_type": "execute_result"
    }
   ],
   "source": [
    "shopping_trends.isna().sum()"
   ]
  },
  {
   "cell_type": "code",
   "execution_count": 8,
   "metadata": {},
   "outputs": [
    {
     "data": {
      "text/html": [
       "<div>\n",
       "<style scoped>\n",
       "    .dataframe tbody tr th:only-of-type {\n",
       "        vertical-align: middle;\n",
       "    }\n",
       "\n",
       "    .dataframe tbody tr th {\n",
       "        vertical-align: top;\n",
       "    }\n",
       "\n",
       "    .dataframe thead th {\n",
       "        text-align: right;\n",
       "    }\n",
       "</style>\n",
       "<table border=\"1\" class=\"dataframe\">\n",
       "  <thead>\n",
       "    <tr style=\"text-align: right;\">\n",
       "      <th></th>\n",
       "      <th>Customer ID</th>\n",
       "      <th>Age</th>\n",
       "      <th>Gender</th>\n",
       "      <th>Item Purchased</th>\n",
       "      <th>Category</th>\n",
       "      <th>Purchase Amount (USD)</th>\n",
       "      <th>Location</th>\n",
       "      <th>Size</th>\n",
       "      <th>Color</th>\n",
       "      <th>Season</th>\n",
       "      <th>Review Rating</th>\n",
       "      <th>Subscription Status</th>\n",
       "      <th>Payment Method</th>\n",
       "      <th>Shipping Type</th>\n",
       "      <th>Discount Applied</th>\n",
       "      <th>Promo Code Used</th>\n",
       "      <th>Previous Purchases</th>\n",
       "      <th>Preferred Payment Method</th>\n",
       "      <th>Frequency of Purchases</th>\n",
       "    </tr>\n",
       "  </thead>\n",
       "  <tbody>\n",
       "    <tr>\n",
       "      <th>0</th>\n",
       "      <td>1</td>\n",
       "      <td>55</td>\n",
       "      <td>Male</td>\n",
       "      <td>Blouse</td>\n",
       "      <td>Clothing</td>\n",
       "      <td>53</td>\n",
       "      <td>Kentucky</td>\n",
       "      <td>L</td>\n",
       "      <td>Gray</td>\n",
       "      <td>Winter</td>\n",
       "      <td>3.1</td>\n",
       "      <td>Yes</td>\n",
       "      <td>Credit Card</td>\n",
       "      <td>Express</td>\n",
       "      <td>Yes</td>\n",
       "      <td>Yes</td>\n",
       "      <td>14</td>\n",
       "      <td>Venmo</td>\n",
       "      <td>Fortnightly</td>\n",
       "    </tr>\n",
       "    <tr>\n",
       "      <th>1</th>\n",
       "      <td>2</td>\n",
       "      <td>19</td>\n",
       "      <td>Male</td>\n",
       "      <td>Sweater</td>\n",
       "      <td>Clothing</td>\n",
       "      <td>64</td>\n",
       "      <td>Maine</td>\n",
       "      <td>L</td>\n",
       "      <td>Maroon</td>\n",
       "      <td>Winter</td>\n",
       "      <td>3.1</td>\n",
       "      <td>Yes</td>\n",
       "      <td>Bank Transfer</td>\n",
       "      <td>Express</td>\n",
       "      <td>Yes</td>\n",
       "      <td>Yes</td>\n",
       "      <td>2</td>\n",
       "      <td>Cash</td>\n",
       "      <td>Fortnightly</td>\n",
       "    </tr>\n",
       "    <tr>\n",
       "      <th>2</th>\n",
       "      <td>3</td>\n",
       "      <td>50</td>\n",
       "      <td>Male</td>\n",
       "      <td>Jeans</td>\n",
       "      <td>Clothing</td>\n",
       "      <td>73</td>\n",
       "      <td>Massachusetts</td>\n",
       "      <td>S</td>\n",
       "      <td>Maroon</td>\n",
       "      <td>Spring</td>\n",
       "      <td>3.1</td>\n",
       "      <td>Yes</td>\n",
       "      <td>Cash</td>\n",
       "      <td>Free Shipping</td>\n",
       "      <td>Yes</td>\n",
       "      <td>Yes</td>\n",
       "      <td>23</td>\n",
       "      <td>Credit Card</td>\n",
       "      <td>Weekly</td>\n",
       "    </tr>\n",
       "    <tr>\n",
       "      <th>3</th>\n",
       "      <td>4</td>\n",
       "      <td>21</td>\n",
       "      <td>Male</td>\n",
       "      <td>Sandals</td>\n",
       "      <td>Footwear</td>\n",
       "      <td>90</td>\n",
       "      <td>Rhode Island</td>\n",
       "      <td>M</td>\n",
       "      <td>Maroon</td>\n",
       "      <td>Spring</td>\n",
       "      <td>3.5</td>\n",
       "      <td>Yes</td>\n",
       "      <td>PayPal</td>\n",
       "      <td>Next Day Air</td>\n",
       "      <td>Yes</td>\n",
       "      <td>Yes</td>\n",
       "      <td>49</td>\n",
       "      <td>PayPal</td>\n",
       "      <td>Weekly</td>\n",
       "    </tr>\n",
       "    <tr>\n",
       "      <th>4</th>\n",
       "      <td>5</td>\n",
       "      <td>45</td>\n",
       "      <td>Male</td>\n",
       "      <td>Blouse</td>\n",
       "      <td>Clothing</td>\n",
       "      <td>49</td>\n",
       "      <td>Oregon</td>\n",
       "      <td>M</td>\n",
       "      <td>Turquoise</td>\n",
       "      <td>Spring</td>\n",
       "      <td>2.7</td>\n",
       "      <td>Yes</td>\n",
       "      <td>Cash</td>\n",
       "      <td>Free Shipping</td>\n",
       "      <td>Yes</td>\n",
       "      <td>Yes</td>\n",
       "      <td>31</td>\n",
       "      <td>PayPal</td>\n",
       "      <td>Annually</td>\n",
       "    </tr>\n",
       "    <tr>\n",
       "      <th>5</th>\n",
       "      <td>6</td>\n",
       "      <td>46</td>\n",
       "      <td>Male</td>\n",
       "      <td>Sneakers</td>\n",
       "      <td>Footwear</td>\n",
       "      <td>20</td>\n",
       "      <td>Wyoming</td>\n",
       "      <td>M</td>\n",
       "      <td>White</td>\n",
       "      <td>Summer</td>\n",
       "      <td>2.9</td>\n",
       "      <td>Yes</td>\n",
       "      <td>Venmo</td>\n",
       "      <td>Standard</td>\n",
       "      <td>Yes</td>\n",
       "      <td>Yes</td>\n",
       "      <td>14</td>\n",
       "      <td>Venmo</td>\n",
       "      <td>Weekly</td>\n",
       "    </tr>\n",
       "    <tr>\n",
       "      <th>6</th>\n",
       "      <td>7</td>\n",
       "      <td>63</td>\n",
       "      <td>Male</td>\n",
       "      <td>Shirt</td>\n",
       "      <td>Clothing</td>\n",
       "      <td>85</td>\n",
       "      <td>Montana</td>\n",
       "      <td>M</td>\n",
       "      <td>Gray</td>\n",
       "      <td>Fall</td>\n",
       "      <td>3.2</td>\n",
       "      <td>Yes</td>\n",
       "      <td>Debit Card</td>\n",
       "      <td>Free Shipping</td>\n",
       "      <td>Yes</td>\n",
       "      <td>Yes</td>\n",
       "      <td>49</td>\n",
       "      <td>Cash</td>\n",
       "      <td>Quarterly</td>\n",
       "    </tr>\n",
       "  </tbody>\n",
       "</table>\n",
       "</div>"
      ],
      "text/plain": [
       "   Customer ID  Age Gender Item Purchased  Category  Purchase Amount (USD)  \\\n",
       "0            1   55   Male         Blouse  Clothing                     53   \n",
       "1            2   19   Male        Sweater  Clothing                     64   \n",
       "2            3   50   Male          Jeans  Clothing                     73   \n",
       "3            4   21   Male        Sandals  Footwear                     90   \n",
       "4            5   45   Male         Blouse  Clothing                     49   \n",
       "5            6   46   Male       Sneakers  Footwear                     20   \n",
       "6            7   63   Male          Shirt  Clothing                     85   \n",
       "\n",
       "        Location Size      Color  Season  Review Rating Subscription Status  \\\n",
       "0       Kentucky    L       Gray  Winter            3.1                 Yes   \n",
       "1          Maine    L     Maroon  Winter            3.1                 Yes   \n",
       "2  Massachusetts    S     Maroon  Spring            3.1                 Yes   \n",
       "3   Rhode Island    M     Maroon  Spring            3.5                 Yes   \n",
       "4         Oregon    M  Turquoise  Spring            2.7                 Yes   \n",
       "5        Wyoming    M      White  Summer            2.9                 Yes   \n",
       "6        Montana    M       Gray    Fall            3.2                 Yes   \n",
       "\n",
       "  Payment Method  Shipping Type Discount Applied Promo Code Used  \\\n",
       "0    Credit Card        Express              Yes             Yes   \n",
       "1  Bank Transfer        Express              Yes             Yes   \n",
       "2           Cash  Free Shipping              Yes             Yes   \n",
       "3         PayPal   Next Day Air              Yes             Yes   \n",
       "4           Cash  Free Shipping              Yes             Yes   \n",
       "5          Venmo       Standard              Yes             Yes   \n",
       "6     Debit Card  Free Shipping              Yes             Yes   \n",
       "\n",
       "   Previous Purchases Preferred Payment Method Frequency of Purchases  \n",
       "0                  14                    Venmo            Fortnightly  \n",
       "1                   2                     Cash            Fortnightly  \n",
       "2                  23              Credit Card                 Weekly  \n",
       "3                  49                   PayPal                 Weekly  \n",
       "4                  31                   PayPal               Annually  \n",
       "5                  14                    Venmo                 Weekly  \n",
       "6                  49                     Cash              Quarterly  "
      ]
     },
     "execution_count": 8,
     "metadata": {},
     "output_type": "execute_result"
    }
   ],
   "source": [
    "shopping_trends.head(7)"
   ]
  },
  {
   "cell_type": "markdown",
   "metadata": {},
   "source": [
    "<h2>Задание 1.1</h2>"
   ]
  },
  {
   "cell_type": "markdown",
   "metadata": {},
   "source": [
    "На основании этих данных необходимо составить максимальное(но не менее пяти) количество гипотез о корреляциях между отдельными столбцами и проверить их. \n",
    "\n",
    "При этом при составлении гипотез можно рассматривать не полный df, а именно выборки (например: \"женщины старше 40 лет покупают в основном осенью\")"
   ]
  },
  {
   "cell_type": "markdown",
   "metadata": {},
   "source": [
    "<h3>Гипотеза 1: Мужчины и женщины предпочитают разные категории товаров</h3>\n",
    "Составим таблицу сопряжённости и проверим статистически значимые различия."
   ]
  },
  {
   "cell_type": "code",
   "execution_count": 10,
   "metadata": {},
   "outputs": [
    {
     "name": "stdout",
     "output_type": "stream",
     "text": [
      "Chi2 = 0.5984208314833445, p-value = 0.8967937925861854\n",
      "Гипотеза не подтверждается.\n"
     ]
    }
   ],
   "source": [
    "# Таблица сопряженности\n",
    "gender_category_table = pd.crosstab(shopping_trends['Gender'], shopping_trends['Category'])\n",
    "\n",
    "# Хи-квадрат тест\n",
    "chi2, p, _, _ = chi2_contingency(gender_category_table)\n",
    "print(f\"Chi2 = {chi2}, p-value = {p}\")\n",
    "if p < 0.05:\n",
    "    print(\"Гипотеза подтверждается: Мужчины и женщины выбирают разные категории.\")\n",
    "else:\n",
    "    print(\"Гипотеза не подтверждается.\")\n"
   ]
  },
  {
   "cell_type": "markdown",
   "metadata": {},
   "source": [
    "<h3>Гипотеза 2: Люди, использующие подписку, тратят больше денег в среднем.</h3>"
   ]
  },
  {
   "cell_type": "code",
   "execution_count": 18,
   "metadata": {},
   "outputs": [
    {
     "name": "stdout",
     "output_type": "stream",
     "text": [
      "Cредние затраты людей с подпиской: 59.49192782526116, Без подписки: 59.865121180189675\n",
      "T-statistic: -0.4395786253862316, p-value: 0.660292253988034\n",
      "Гипотеза не подтверждается.\n"
     ]
    }
   ],
   "source": [
    "subscribed = shopping_trends[shopping_trends['Subscription Status'] == 'Yes']\n",
    "non_subscribed = shopping_trends[shopping_trends['Subscription Status'] == 'No']\n",
    "avg_subscribed = subscribed['Purchase Amount (USD)'].mean()\n",
    "avg_non_subscribed = non_subscribed['Purchase Amount (USD)'].mean()\n",
    "print(f\"Cредние затраты людей с подпиской: {avg_subscribed}, Без подписки: {avg_non_subscribed}\")\n",
    "t_stat, p_value = ttest_ind(subscribed['Purchase Amount (USD)'], non_subscribed['Purchase Amount (USD)'], equal_var=False)\n",
    "print(f\"T-statistic: {t_stat}, p-value: {p_value}\")\n",
    "if p_value < 0.05:\n",
    "    print(\"Гипотеза подтверждается\")\n",
    "else:\n",
    "    print(\"Гипотеза не подтверждается.\")"
   ]
  },
  {
   "cell_type": "markdown",
   "metadata": {},
   "source": [
    "<h3>Гипотеза 3: Люди, использующие кредитные карты (Credit Card), тратят больше денег в среднем, чем при использовании других методов оплаты.</h3>"
   ]
  },
  {
   "cell_type": "code",
   "execution_count": 22,
   "metadata": {},
   "outputs": [
    {
     "name": "stdout",
     "output_type": "stream",
     "text": [
      "Средняя сумма покупки по методам оплаты:\n",
      "Payment Method\n",
      "Bank Transfer    58.738924\n",
      "Cash             59.927469\n",
      "Credit Card      61.159483\n",
      "Debit Card       58.638231\n",
      "PayPal           58.697492\n",
      "Venmo            61.241960\n",
      "Name: Purchase Amount (USD), dtype: float64\n",
      "ANOVA статистика: 1.7811454949409928, p-value: 0.11316179478133732\n",
      "T-statistic: 1.7137884797912448, p-value: 0.08687181238598346\n",
      "Различия не являются значимыми.\n"
     ]
    }
   ],
   "source": [
    "# Группируем данные по методу оплаты\n",
    "grouped_data = shopping_trends.groupby('Payment Method')['Purchase Amount (USD)']\n",
    "\n",
    "# Считаем среднюю сумму покупки для каждого метода\n",
    "average_purchase = grouped_data.mean()\n",
    "print(\"Средняя сумма покупки по методам оплаты:\")\n",
    "print(average_purchase)\n",
    "\n",
    "# Выделяем данные для кредитной карты и остальных методов\n",
    "credit_card_spending = shopping_trends[shopping_trends['Payment Method'] == 'Credit Card']['Purchase Amount (USD)']\n",
    "other_methods_spending = shopping_trends[shopping_trends['Payment Method'] != 'Credit Card']['Purchase Amount (USD)']\n",
    "\n",
    "# Проверяем значимость различий с помощью ANOVA\n",
    "\n",
    "anova_stat, anova_p_value = f_oneway(\n",
    "    credit_card_spending,\n",
    "    *[shopping_trends[shopping_trends['Payment Method'] == method]['Purchase Amount (USD)'] \n",
    "      for method in shopping_trends['Payment Method'].unique() if method != 'Credit Card']\n",
    ")\n",
    "\n",
    "print(f\"ANOVA статистика: {anova_stat}, p-value: {anova_p_value}\")\n",
    "if anova_p_value < 0.05:\n",
    "    print(\"Есть значимые различия между методами оплаты.\")\n",
    "\n",
    "# Дополнительно: проверка t-теста между Credit Card и всеми остальными методами\n",
    "\n",
    "t_stat, t_p_value = ttest_ind(credit_card_spending, other_methods_spending, equal_var=False)\n",
    "print(f\"T-statistic: {t_stat}, p-value: {t_p_value}\")\n",
    "if t_p_value < 0.05:\n",
    "    print(\"Люди с кредитной картой тратят значимо больше.\")\n",
    "else:\n",
    "    print(\"Различия не являются значимыми.\")\n"
   ]
  },
  {
   "cell_type": "markdown",
   "metadata": {},
   "source": [
    "<h3>Гипотеза 4: Люди из штата California тратят больше в среднем, чем люди из других локаций.</h3>"
   ]
  },
  {
   "cell_type": "code",
   "execution_count": 23,
   "metadata": {
    "scrolled": true
   },
   "outputs": [
    {
     "name": "stdout",
     "output_type": "stream",
     "text": [
      "Средняя сумма покупок в California: 59.0\n",
      "Средняя сумма покупок в других локациях: 59.78344283837057\n",
      "T-statistic: -0.3161307684294565, p-value: 0.7525709637678\n",
      "Гипотеза не подтверждается: Различия не являются значимыми.\n"
     ]
    }
   ],
   "source": [
    "# Создаём выборки\n",
    "california_spending = shopping_trends[shopping_trends['Location'] == 'California']['Purchase Amount (USD)']\n",
    "other_locations_spending = shopping_trends[shopping_trends['Location'] != 'California']['Purchase Amount (USD)']\n",
    "\n",
    "# Считаем средние значения\n",
    "california_mean = california_spending.mean()\n",
    "other_locations_mean = other_locations_spending.mean()\n",
    "print(f\"Средняя сумма покупок в California: {california_mean}\")\n",
    "print(f\"Средняя сумма покупок в других локациях: {other_locations_mean}\")\n",
    "\n",
    "# Проверяем значимость различий с помощью t-теста\n",
    "t_stat, p_value = ttest_ind(california_spending, other_locations_spending, equal_var=False)\n",
    "print(f\"T-statistic: {t_stat}, p-value: {p_value}\")\n",
    "\n",
    "# Вывод результата\n",
    "if p_value < 0.05:\n",
    "    print(\"Гипотеза подтверждается: Люди из California тратят больше в среднем.\")\n",
    "else:\n",
    "    print(\"Гипотеза не подтверждается: Различия не являются значимыми.\")\n"
   ]
  },
  {
   "cell_type": "markdown",
   "metadata": {},
   "source": [
    "<h3>Гипотеза 5: Люди в возрасте от 21 до 50 лет тратят в среднем больше денег, чем группы младше 20 и старше 50 лет.</h3>"
   ]
  },
  {
   "cell_type": "code",
   "execution_count": 24,
   "metadata": {},
   "outputs": [
    {
     "name": "stdout",
     "output_type": "stream",
     "text": [
      "Средняя сумма покупок по возрастным группам:\n",
      "Age Group\n",
      "До 20 лет        58.981132\n",
      "21-50 лет        59.718354\n",
      "Старше 50 лет    59.945799\n",
      "Name: Purchase Amount (USD), dtype: float64\n",
      "ANOVA статистика: 0.1633196445311046, p-value: 0.8493254775619208\n",
      "T-statistic: -0.1385763803833234, p-value: 0.8897926487753411\n",
      "Группа 21-50 лет не тратит значимо больше.\n"
     ]
    }
   ],
   "source": [
    "# Создаём группы по возрасту\n",
    "bins = [0, 20, 50, 100]\n",
    "labels = ['До 20 лет', '21-50 лет', 'Старше 50 лет']\n",
    "shopping_trends['Age Group'] = pd.cut(shopping_trends['Age'], bins=bins, labels=labels)\n",
    "\n",
    "# Считаем средние значения для каждой группы\n",
    "age_group_means = shopping_trends.groupby('Age Group')['Purchase Amount (USD)'].mean()\n",
    "print(\"Средняя сумма покупок по возрастным группам:\")\n",
    "print(age_group_means)\n",
    "\n",
    "# Выделяем выборки\n",
    "under_20 = shopping_trends[shopping_trends['Age Group'] == 'До 20 лет']['Purchase Amount (USD)']\n",
    "between_21_50 = shopping_trends[shopping_trends['Age Group'] == '21-50 лет']['Purchase Amount (USD)']\n",
    "over_50 = shopping_trends[shopping_trends['Age Group'] == 'Старше 50 лет']['Purchase Amount (USD)']\n",
    "\n",
    "# Проверяем значимость различий с помощью ANOVA\n",
    "anova_stat, anova_p_value = f_oneway(under_20, between_21_50, over_50)\n",
    "print(f\"ANOVA статистика: {anova_stat}, p-value: {anova_p_value}\")\n",
    "\n",
    "if anova_p_value < 0.05:\n",
    "    print(\"Есть значимые различия между возрастными группами.\")\n",
    "\n",
    "# Дополнительно: проверка t-теста между группой 21-50 и другими\n",
    "under_20_and_over_50 = pd.concat([under_20, over_50])\n",
    "t_stat, t_p_value = ttest_ind(between_21_50, under_20_and_over_50, equal_var=False)\n",
    "print(f\"T-statistic: {t_stat}, p-value: {t_p_value}\")\n",
    "\n",
    "if t_p_value < 0.05:\n",
    "    print(\"Группа 21-50 лет тратит значимо больше.\")\n",
    "else:\n",
    "    print(\"Группа 21-50 лет не тратит значимо больше.\")"
   ]
  },
  {
   "cell_type": "markdown",
   "metadata": {},
   "source": [
    "<h3>Гипотеза 6: Клиенты, использующие промокоды, ставят более высокие оценки покупок (Review Rating), чем те, кто не использует промокоды.</h3>"
   ]
  },
  {
   "cell_type": "code",
   "execution_count": 25,
   "metadata": {},
   "outputs": [
    {
     "name": "stdout",
     "output_type": "stream",
     "text": [
      "Средняя оценка с промокодом: 3.739654144305303\n",
      "Средняя оценка без промокода: 3.757714799820062\n",
      "T-statistic: -0.7793383581645102, p-value: 0.43583158342101125\n",
      "Гипотеза не подтверждается: Использование промокодов не влияет на оценки.\n"
     ]
    }
   ],
   "source": [
    "# Создаём выборки\n",
    "promo_used = shopping_trends[shopping_trends['Promo Code Used'] == 'Yes']['Review Rating']\n",
    "promo_not_used = shopping_trends[shopping_trends['Promo Code Used'] == 'No']['Review Rating']\n",
    "\n",
    "# Считаем средние оценки\n",
    "avg_rating_with_promo = promo_used.mean()\n",
    "avg_rating_without_promo = promo_not_used.mean()\n",
    "\n",
    "print(f\"Средняя оценка с промокодом: {avg_rating_with_promo}\")\n",
    "print(f\"Средняя оценка без промокода: {avg_rating_without_promo}\")\n",
    "\n",
    "# Проверяем значимость различий с помощью t-теста\n",
    "t_stat, p_value = ttest_ind(promo_used, promo_not_used, equal_var=False)\n",
    "print(f\"T-statistic: {t_stat}, p-value: {p_value}\")\n",
    "\n",
    "# Интерпретация\n",
    "if p_value < 0.05:\n",
    "    print(\"Гипотеза подтверждается: Клиенты с промокодами оставляют более высокие оценки.\")\n",
    "else:\n",
    "    print(\"Гипотеза не подтверждается: Использование промокодов не влияет на оценки.\")"
   ]
  },
  {
   "cell_type": "markdown",
   "metadata": {},
   "source": [
    "<h3>Гипотеза 7: Женщины чаще покупают розовые вещи, чем мужчины.</h3>"
   ]
  },
  {
   "cell_type": "code",
   "execution_count": 26,
   "metadata": {},
   "outputs": [
    {
     "name": "stdout",
     "output_type": "stream",
     "text": [
      "Доля розовых покупок:\n",
      "Male      0.035822\n",
      "Female    0.046474\n",
      "Name: Gender, dtype: float64\n",
      "Chi-squared statistic: 2.2800603035292517, p-value: 0.1310467782607279\n",
      "Гипотеза не подтверждается: Выбор розового цвета не зависит от пола.\n"
     ]
    }
   ],
   "source": [
    "# Фильтруем данные\n",
    "pink_items = shopping_trends[shopping_trends['Color'] == 'Pink']\n",
    "\n",
    "# Считаем количество розовых покупок по полу\n",
    "pink_counts = pink_items['Gender'].value_counts()\n",
    "total_counts = shopping_trends['Gender'].value_counts()\n",
    "\n",
    "# Рассчитываем доли\n",
    "pink_ratios = pink_counts / total_counts\n",
    "print(\"Доля розовых покупок:\")\n",
    "print(pink_ratios)\n",
    "\n",
    "# Создаём таблицу сопряжённости\n",
    "contingency_table = pd.crosstab(shopping_trends['Gender'], shopping_trends['Color'] == 'Pink')\n",
    "\n",
    "# Тест хи-квадрат\n",
    "chi2_stat, p_value, dof, expected = chi2_contingency(contingency_table)\n",
    "print(f\"Chi-squared statistic: {chi2_stat}, p-value: {p_value}\")\n",
    "\n",
    "# Интерпретация результатов\n",
    "if p_value < 0.05:\n",
    "    print(\"Гипотеза подтверждается: Женщины чаще покупают розовые вещи, чем мужчины.\")\n",
    "else:\n",
    "    print(\"Гипотеза не подтверждается: Выбор розового цвета не зависит от пола.\")"
   ]
  },
  {
   "cell_type": "markdown",
   "metadata": {},
   "source": [
    "<h3>Гипотеза 8: Женщины чаще покупают товары из категории \"Accessories\", чем мужчины.</h3>"
   ]
  },
  {
   "cell_type": "code",
   "execution_count": 28,
   "metadata": {},
   "outputs": [
    {
     "name": "stdout",
     "output_type": "stream",
     "text": [
      "Доля покупок аксессуаров:\n",
      "Male      0.319759\n",
      "Female    0.314103\n",
      "Name: Gender, dtype: float64\n",
      "Chi-squared statistic: 0.10047067160905018, p-value: 0.7512655391929199\n",
      "Гипотеза не подтверждается: Покупки аксессуаров не зависят от пола.\n"
     ]
    }
   ],
   "source": [
    "# Фильтруем данные\n",
    "accessories_items = shopping_trends[shopping_trends['Category'] == 'Accessories']\n",
    "\n",
    "# Считаем количество покупок аксессуаров по полу\n",
    "accessories_counts = accessories_items['Gender'].value_counts()\n",
    "total_counts = shopping_trends['Gender'].value_counts()\n",
    "\n",
    "# Рассчитываем доли\n",
    "accessories_ratios = accessories_counts / total_counts\n",
    "print(\"Доля покупок аксессуаров:\")\n",
    "print(accessories_ratios)\n",
    "\n",
    "# Создаём таблицу сопряжённости\n",
    "contingency_table = pd.crosstab(shopping_trends['Gender'], shopping_trends['Category'] == 'Accessories')\n",
    "\n",
    "# Тест хи-квадрат\n",
    "chi2_stat, p_value, dof, expected = chi2_contingency(contingency_table)\n",
    "print(f\"Chi-squared statistic: {chi2_stat}, p-value: {p_value}\")\n",
    "\n",
    "# Интерпретация результатов\n",
    "if p_value < 0.05:\n",
    "    print(\"Гипотеза подтверждается: Женщины чаще покупают аксессуары, чем мужчины.\")\n",
    "else:\n",
    "    print(\"Гипотеза не подтверждается: Покупки аксессуаров не зависят от пола.\")"
   ]
  },
  {
   "cell_type": "markdown",
   "metadata": {},
   "source": [
    "<h2>Задание 1.2</h2>"
   ]
  },
  {
   "cell_type": "markdown",
   "metadata": {},
   "source": [
    "Помимо гипотез:\n",
    "* найдите самый популярный товар\n",
    "* постройте распределение покупателей по полу\n",
    "* определите, какой пол (и отдельно возраст) покупает больше всего, чаще всего, самые дорогие товары\n",
    "* определите, есть ли зависимость между цветом одежды и сезоном.\n",
    "* посчитайте наш сезонный mau (уникальных пользователей за сезон) и его динамику.\n",
    "* найдите самую популярную букву в названии одежды. "
   ]
  },
  {
   "cell_type": "markdown",
   "metadata": {},
   "source": [
    "<h3>1. Найти самый популярный товар</h3>"
   ]
  },
  {
   "cell_type": "code",
   "execution_count": 38,
   "metadata": {
    "scrolled": true
   },
   "outputs": [
    {
     "name": "stdout",
     "output_type": "stream",
     "text": [
      "Blouse     171\n",
      "Jewelry    171\n",
      "Pants      171\n",
      "Shirt      169\n",
      "Dress      166\n",
      "Name: Item Purchased, dtype: int64\n",
      "Самые популярные товары: Blouse, Jewelry, Pants\n"
     ]
    }
   ],
   "source": [
    "# Находим самый популярный товар\n",
    "print(shopping_trends['Item Purchased'].value_counts().head(5))\n",
    "# Подсчет количества покупок каждого товара\n",
    "item_counts = shopping_trends['Item Purchased'].value_counts()\n",
    "\n",
    "# Находим максимальное количество покупок\n",
    "max_count = item_counts.max()\n",
    "\n",
    "# Выбираем все товары с максимальным количеством покупок\n",
    "most_popular_items = item_counts[item_counts == max_count].index.tolist()\n",
    "\n",
    "print(f\"Самые популярные товары: {', '.join(most_popular_items)}\")\n"
   ]
  },
  {
   "cell_type": "markdown",
   "metadata": {},
   "source": [
    "<h3>2. Построить распределение покупателей по полу</h3>"
   ]
  },
  {
   "cell_type": "code",
   "execution_count": 31,
   "metadata": {},
   "outputs": [
    {
     "data": {
      "image/png": "[encoded data removed]",
      "text/plain": [
       "<Figure size 432x288 with 1 Axes>"
      ]
     },
     "metadata": {
      "needs_background": "light"
     },
     "output_type": "display_data"
    }
   ],
   "source": [
    "import matplotlib.pyplot as plt\n",
    "\n",
    "# Распределение по полу\n",
    "gender_distribution = shopping_trends['Gender'].value_counts()\n",
    "\n",
    "# Построение графика\n",
    "gender_distribution.plot(kind='bar', color='skyblue')\n",
    "plt.title('Распределение покупателей по полу')\n",
    "plt.xlabel('Пол')\n",
    "plt.ylabel('Количество покупателей')\n",
    "plt.xticks(rotation=0)\n",
    "plt.show()"
   ]
  },
  {
   "cell_type": "markdown",
   "metadata": {},
   "source": [
    "<h3>3. определить, какой пол (и отдельно возраст) покупает больше всего, чаще всего, самые дорогие товары</h3>"
   ]
  },
  {
   "cell_type": "code",
   "execution_count": 52,
   "metadata": {},
   "outputs": [
    {
     "name": "stdout",
     "output_type": "stream",
     "text": [
      "Распределение покупок по полу:\n",
      "Gender\n",
      "Male      157890\n",
      "Female     75191\n",
      "Name: Purchase Amount (USD), dtype: int64\n",
      "Пол, который покупает больше всего: Male\n"
     ]
    }
   ],
   "source": [
    "# 1. Пол, который покупает больше всего\n",
    "gender_spending = shopping_trends.groupby('Gender')['Purchase Amount (USD)'].sum().sort_values(ascending=False)\n",
    "print(\"Распределение покупок по полу:\")\n",
    "print(gender_spending)\n",
    "print(f\"Пол, который покупает больше всего: {gender_spending.index[0]}\")\n"
   ]
  },
  {
   "cell_type": "code",
   "execution_count": 118,
   "metadata": {},
   "outputs": [
    {
     "name": "stdout",
     "output_type": "stream",
     "text": [
      "\n",
      "Топ-5 возраста, которые покупают больше всего:\n",
      "Age\n",
      "49    5552\n",
      "69    5484\n",
      "25    5372\n",
      "41    5282\n",
      "54    5282\n",
      "Name: Purchase Amount (USD), dtype: int64\n",
      "Возраст, который покупает больше всего: 49\n"
     ]
    }
   ],
   "source": [
    "# 2. Возраст, который покупает больше всего\n",
    "age_spending = shopping_trends.groupby('Age')['Purchase Amount (USD)'].sum().sort_values(ascending=False)\n",
    "print(\"\\nТоп-5 возраста, которые покупают больше всего:\")\n",
    "print(age_spending.head(5))\n",
    "print(f\"Возраст, который покупает больше всего: {age_spending.index[0]}\")"
   ]
  },
  {
   "cell_type": "code",
   "execution_count": 49,
   "metadata": {},
   "outputs": [
    {
     "name": "stdout",
     "output_type": "stream",
     "text": [
      "\n",
      "Распределение частоты покупок по полу:\n",
      "Male      2652\n",
      "Female    1248\n",
      "Name: Gender, dtype: int64\n",
      "Пол, который чаще всего покупает: Male\n"
     ]
    }
   ],
   "source": [
    "# 3. Пол, который чаще всего покупает\n",
    "gender_frequency = shopping_trends['Gender'].value_counts()\n",
    "print(\"\\nРаспределение частоты покупок по полу:\")\n",
    "print(gender_frequency)\n",
    "print(f\"Пол, который чаще всего покупает: {gender_frequency.index[0]}\")"
   ]
  },
  {
   "cell_type": "code",
   "execution_count": 51,
   "metadata": {},
   "outputs": [
    {
     "name": "stdout",
     "output_type": "stream",
     "text": [
      "\n",
      "Топ-5 возраста, которые чаще всего покупают:\n",
      "69    88\n",
      "57    87\n",
      "41    86\n",
      "25    85\n",
      "49    84\n",
      "Name: Age, dtype: int64\n",
      "Возраст, который чаще всего покупает: 69\n"
     ]
    }
   ],
   "source": [
    "# 4. Возраст, который чаще всего покупает\n",
    "age_frequency = shopping_trends['Age'].value_counts()\n",
    "print(\"\\nТоп-5 возраста, которые чаще всего покупают:\")\n",
    "print(age_frequency.head(5))\n",
    "print(f\"Возраст, который чаще всего покупает: {age_frequency.index[0]}\")"
   ]
  },
  {
   "cell_type": "code",
   "execution_count": 56,
   "metadata": {
    "scrolled": false
   },
   "outputs": [
    {
     "name": "stdout",
     "output_type": "stream",
     "text": [
      "\n",
      "Все покупки с максимальной стоимостью:\n",
      "      Gender  Age  Purchase Amount (USD) Item Purchased\n",
      "42      Male   20                    100           Coat\n",
      "95      Male   37                    100       Sneakers\n",
      "193     Male   36                    100           Belt\n",
      "204     Male   24                    100       Sneakers\n",
      "243     Male   25                    100        Jewelry\n",
      "248     Male   47                    100           Belt\n",
      "455     Male   54                    100         Blouse\n",
      "518     Male   24                    100         Blouse\n",
      "581     Male   32                    100        Sweater\n",
      "615     Male   67                    100        Sandals\n",
      "769     Male   52                    100          Socks\n",
      "861     Male   46                    100          Skirt\n",
      "1208    Male   20                    100          Boots\n",
      "1300    Male   67                    100        T-shirt\n",
      "1405    Male   33                    100          Socks\n",
      "1412    Male   25                    100         Shorts\n",
      "1421    Male   68                    100          Dress\n",
      "1456    Male   59                    100           Coat\n",
      "1479    Male   48                    100           Coat\n",
      "1591    Male   18                    100          Skirt\n",
      "1847    Male   46                    100        Sandals\n",
      "2071    Male   69                    100         Jacket\n",
      "2214    Male   50                    100           Belt\n",
      "2285    Male   34                    100           Belt\n",
      "2430    Male   20                    100         Jacket\n",
      "2802  Female   22                    100           Coat\n",
      "2807  Female   56                    100         Hoodie\n",
      "2842  Female   28                    100           Coat\n",
      "2958  Female   55                    100          Skirt\n",
      "2971  Female   30                    100        Handbag\n",
      "2994  Female   69                    100        Sweater\n",
      "3028  Female   62                    100          Dress\n",
      "3265  Female   40                    100     Sunglasses\n",
      "3321  Female   32                    100           Coat\n",
      "3725  Female   18                    100          Dress\n",
      "3837  Female   45                    100         Hoodie\n",
      "\n",
      "Количество покупок с максимальной стоимостью: 36\n",
      "\n",
      "Уникальные комбинации пола и возраста для максимальных покупок:\n",
      "    Gender  Age  Count\n",
      "0   Female   18      1\n",
      "1   Female   22      1\n",
      "2   Female   28      1\n",
      "3   Female   30      1\n",
      "4   Female   32      1\n",
      "5   Female   40      1\n",
      "6   Female   45      1\n",
      "7   Female   55      1\n",
      "8   Female   56      1\n",
      "9   Female   62      1\n",
      "10  Female   69      1\n",
      "11    Male   18      1\n",
      "12    Male   20      3\n",
      "13    Male   24      2\n",
      "14    Male   25      2\n",
      "15    Male   32      1\n",
      "16    Male   33      1\n",
      "17    Male   34      1\n",
      "18    Male   36      1\n",
      "19    Male   37      1\n",
      "20    Male   46      2\n",
      "21    Male   47      1\n",
      "22    Male   48      1\n",
      "23    Male   50      1\n",
      "24    Male   52      1\n",
      "25    Male   54      1\n",
      "26    Male   59      1\n",
      "27    Male   67      2\n",
      "28    Male   68      1\n",
      "29    Male   69      1\n",
      "\n",
      "Комбинация пола и возраста с наибольшим количеством покупок:\n",
      "Gender    Male\n",
      "Age         20\n",
      "Count        3\n",
      "Name: 12, dtype: object\n"
     ]
    }
   ],
   "source": [
    "# 5. Самые дорогие товары по полу и возрасту\n",
    "max_purchase_amount = shopping_trends['Purchase Amount (USD)'].max()\n",
    "top_purchases = shopping_trends[shopping_trends['Purchase Amount (USD)'] == max_purchase_amount]\n",
    "\n",
    "print(\"\\nВсе покупки с максимальной стоимостью:\")\n",
    "print(top_purchases[['Gender', 'Age', 'Purchase Amount (USD)', 'Item Purchased']])\n",
    "\n",
    "print(f\"\\nКоличество покупок с максимальной стоимостью: {len(top_purchases)}\")\n",
    "\n",
    "print(\"\\nУникальные комбинации пола и возраста для максимальных покупок:\")\n",
    "unique_combinations = top_purchases.groupby(['Gender', 'Age']).size().reset_index(name='Count')\n",
    "print(unique_combinations)\n",
    "\n",
    "# Найти комбинацию с наибольшим 'Count'\n",
    "max_count_combination = unique_combinations.sort_values(by='Count', ascending=False).iloc[0]\n",
    "print(\"\\nКомбинация пола и возраста с наибольшим количеством покупок:\")\n",
    "print(max_count_combination)"
   ]
  },
  {
   "cell_type": "markdown",
   "metadata": {},
   "source": [
    "<h3>4. Определить, есть ли зависимость между цветом одежды и сезоном.</h3>"
   ]
  },
  {
   "cell_type": "code",
   "execution_count": 66,
   "metadata": {},
   "outputs": [
    {
     "name": "stdout",
     "output_type": "stream",
     "text": [
      "Chi-squared statistic: 64.7\n",
      "p-value: 0.719\n",
      "Degrees of freedom: 72\n",
      "Статистически значимой зависимости между цветом одежды и сезоном нет.\n"
     ]
    }
   ],
   "source": [
    "\n",
    "# Таблица сопряженности\n",
    "color_season_contingency = shopping_trends.groupby(['Color', 'Season']).size().unstack(fill_value=0)\n",
    "# Хи-квадрат тест\n",
    "chi2_stat, p_value, dof, expected = chi2_contingency(color_season_contingency)\n",
    "\n",
    "# Вывод результатов\n",
    "print(f\"Chi-squared statistic: {chi2_stat :.3}\")\n",
    "print(f\"p-value: {p_value :.3}\")\n",
    "print(f\"Degrees of freedom: {dof}\")\n",
    "\n",
    "# Интерпретация результата\n",
    "if p_value < 0.05:\n",
    "    print(\"Есть статистически значимая зависимость между цветом одежды и сезоном.\")\n",
    "else:\n",
    "    print(\"Статистически значимой зависимости между цветом одежды и сезоном нет.\")\n"
   ]
  },
  {
   "cell_type": "markdown",
   "metadata": {},
   "source": [
    "<h3>5. Посчитать наш сезонный mau (уникальных пользователей за сезон) и его динамику.</h3>"
   ]
  },
  {
   "cell_type": "code",
   "execution_count": 70,
   "metadata": {},
   "outputs": [
    {
     "name": "stdout",
     "output_type": "stream",
     "text": [
      "Сезонный MAU:\n",
      "Season\n",
      "Fall      975\n",
      "Spring    999\n",
      "Summer    955\n",
      "Winter    971\n",
      "Name: Customer ID, dtype: int64\n"
     ]
    },
    {
     "data": {
      "image/png": "[encoded data removed]",
      "text/plain": [
       "<Figure size 720x432 with 1 Axes>"
      ]
     },
     "metadata": {},
     "output_type": "display_data"
    }
   ],
   "source": [
    "# Сезонный MAU\n",
    "seasonal_mau = shopping_trends.groupby('Season')['Customer ID'].nunique()\n",
    "print(\"Сезонный MAU:\")\n",
    "print(seasonal_mau)\n",
    "\n",
    "# Построение графика\n",
    "plt.figure(figsize=(10, 6))\n",
    "sns.barplot(x=seasonal_mau.index, y=seasonal_mau.values, palette=\"viridis\")\n",
    "\n",
    "# Добавляем подписи к столбцам\n",
    "for i, value in enumerate(seasonal_mau.values):\n",
    "    plt.text(i, value + 2, f\"{value}\", ha='center', fontsize=12, color='black')\n",
    "\n",
    "# Оформление\n",
    "plt.title('Сезонный MAU', fontsize=16, weight='bold')\n",
    "plt.xlabel('Сезон', fontsize=14)\n",
    "plt.ylabel('Количество уникальных пользователей', fontsize=14)\n",
    "plt.xticks(fontsize=12)\n",
    "plt.yticks(fontsize=12)\n",
    "plt.tight_layout()\n",
    "plt.show()"
   ]
  },
  {
   "cell_type": "markdown",
   "metadata": {},
   "source": [
    "<h3>6. Найти самую популярную букву в названии одежды.</h3>"
   ]
  },
  {
   "cell_type": "code",
   "execution_count": 71,
   "metadata": {},
   "outputs": [
    {
     "name": "stdout",
     "output_type": "stream",
     "text": [
      "Топ-5 самых популярных букв в названиях одежды:\n",
      "Буква 's': 4063 вхождений\n",
      "Буква 'e': 2347 вхождений\n",
      "Буква 'a': 2312 вхождений\n",
      "Буква 't': 1896 вхождений\n",
      "Буква 'o': 1528 вхождений\n"
     ]
    }
   ],
   "source": [
    "from collections import Counter\n",
    "\n",
    "# Объединение всех названий товаров в одну строку и подсчет букв\n",
    "all_letters = ''.join(shopping_trends['Item Purchased']).replace(' ', '').lower()\n",
    "letter_counts = Counter(all_letters)\n",
    "\n",
    "# Получение топ-5 самых популярных букв\n",
    "top_5_letters = letter_counts.most_common(5)\n",
    "\n",
    "# Вывод результата\n",
    "print(\"Топ-5 самых популярных букв в названиях одежды:\")\n",
    "for letter, count in top_5_letters:\n",
    "    print(f\"Буква '{letter}': {count} вхождений\")"
   ]
  },
  {
   "cell_type": "markdown",
   "metadata": {},
   "source": [
    "<h1>Задание 2</h1> \n",
    "\n",
    "У нас есть данные о потреблении алкоголя в мире. \n",
    "\n",
    "Загрузите их и изучите, где же люди пьют больше вина, пива и других спиртных напитков."
   ]
  },
  {
   "cell_type": "code",
   "execution_count": 72,
   "metadata": {},
   "outputs": [],
   "source": [
    "drinks = pd.read_csv('drinks.csv')"
   ]
  },
  {
   "cell_type": "code",
   "execution_count": 75,
   "metadata": {},
   "outputs": [
    {
     "data": {
      "text/plain": [
       "Index(['country', 'beer_servings', 'spirit_servings', 'wine_servings',\n",
       "       'total_litres_of_pure_alcohol'],\n",
       "      dtype='object')"
      ]
     },
     "execution_count": 75,
     "metadata": {},
     "output_type": "execute_result"
    }
   ],
   "source": [
    "drinks.columns"
   ]
  },
  {
   "cell_type": "code",
   "execution_count": 76,
   "metadata": {},
   "outputs": [
    {
     "name": "stdout",
     "output_type": "stream",
     "text": [
      "<class 'pandas.core.frame.DataFrame'>\n",
      "RangeIndex: 193 entries, 0 to 192\n",
      "Data columns (total 5 columns):\n",
      " #   Column                        Non-Null Count  Dtype  \n",
      "---  ------                        --------------  -----  \n",
      " 0   country                       193 non-null    object \n",
      " 1   beer_servings                 193 non-null    int64  \n",
      " 2   spirit_servings               193 non-null    int64  \n",
      " 3   wine_servings                 193 non-null    int64  \n",
      " 4   total_litres_of_pure_alcohol  193 non-null    float64\n",
      "dtypes: float64(1), int64(3), object(1)\n",
      "memory usage: 7.7+ KB\n"
     ]
    }
   ],
   "source": [
    "drinks.info()"
   ]
  },
  {
   "cell_type": "code",
   "execution_count": 78,
   "metadata": {},
   "outputs": [
    {
     "data": {
      "text/plain": [
       "country                         0\n",
       "beer_servings                   0\n",
       "spirit_servings                 0\n",
       "wine_servings                   0\n",
       "total_litres_of_pure_alcohol    0\n",
       "dtype: int64"
      ]
     },
     "execution_count": 78,
     "metadata": {},
     "output_type": "execute_result"
    }
   ],
   "source": [
    "#Проверяем на наличие пропусков\n",
    "drinks.isna().sum()"
   ]
  },
  {
   "cell_type": "code",
   "execution_count": 79,
   "metadata": {},
   "outputs": [
    {
     "data": {
      "text/html": [
       "<div>\n",
       "<style scoped>\n",
       "    .dataframe tbody tr th:only-of-type {\n",
       "        vertical-align: middle;\n",
       "    }\n",
       "\n",
       "    .dataframe tbody tr th {\n",
       "        vertical-align: top;\n",
       "    }\n",
       "\n",
       "    .dataframe thead th {\n",
       "        text-align: right;\n",
       "    }\n",
       "</style>\n",
       "<table border=\"1\" class=\"dataframe\">\n",
       "  <thead>\n",
       "    <tr style=\"text-align: right;\">\n",
       "      <th></th>\n",
       "      <th>country</th>\n",
       "      <th>beer_servings</th>\n",
       "      <th>spirit_servings</th>\n",
       "      <th>wine_servings</th>\n",
       "      <th>total_litres_of_pure_alcohol</th>\n",
       "    </tr>\n",
       "  </thead>\n",
       "  <tbody>\n",
       "    <tr>\n",
       "      <th>0</th>\n",
       "      <td>Afghanistan</td>\n",
       "      <td>0</td>\n",
       "      <td>0</td>\n",
       "      <td>0</td>\n",
       "      <td>0.0</td>\n",
       "    </tr>\n",
       "    <tr>\n",
       "      <th>1</th>\n",
       "      <td>Albania</td>\n",
       "      <td>89</td>\n",
       "      <td>132</td>\n",
       "      <td>54</td>\n",
       "      <td>4.9</td>\n",
       "    </tr>\n",
       "    <tr>\n",
       "      <th>2</th>\n",
       "      <td>Algeria</td>\n",
       "      <td>25</td>\n",
       "      <td>0</td>\n",
       "      <td>14</td>\n",
       "      <td>0.7</td>\n",
       "    </tr>\n",
       "    <tr>\n",
       "      <th>3</th>\n",
       "      <td>Andorra</td>\n",
       "      <td>245</td>\n",
       "      <td>138</td>\n",
       "      <td>312</td>\n",
       "      <td>12.4</td>\n",
       "    </tr>\n",
       "    <tr>\n",
       "      <th>4</th>\n",
       "      <td>Angola</td>\n",
       "      <td>217</td>\n",
       "      <td>57</td>\n",
       "      <td>45</td>\n",
       "      <td>5.9</td>\n",
       "    </tr>\n",
       "  </tbody>\n",
       "</table>\n",
       "</div>"
      ],
      "text/plain": [
       "       country  beer_servings  spirit_servings  wine_servings  \\\n",
       "0  Afghanistan              0                0              0   \n",
       "1      Albania             89              132             54   \n",
       "2      Algeria             25                0             14   \n",
       "3      Andorra            245              138            312   \n",
       "4       Angola            217               57             45   \n",
       "\n",
       "   total_litres_of_pure_alcohol  \n",
       "0                           0.0  \n",
       "1                           4.9  \n",
       "2                           0.7  \n",
       "3                          12.4  \n",
       "4                           5.9  "
      ]
     },
     "execution_count": 79,
     "metadata": {},
     "output_type": "execute_result"
    }
   ],
   "source": [
    "drinks.head()"
   ]
  },
  {
   "cell_type": "code",
   "execution_count": 80,
   "metadata": {
    "scrolled": true
   },
   "outputs": [
    {
     "name": "stdout",
     "output_type": "stream",
     "text": [
      "Максимальное потребление пива: 376 в Namibia\n",
      "Максимальное потребление вина: 370 в France\n",
      "Максимальное потребление спиртных напитков: 438 в Grenada\n"
     ]
    }
   ],
   "source": [
    "# Страна с максимальным потреблением пива\n",
    "max_beer_country = drinks.loc[drinks['beer_servings'].idxmax(), 'country']\n",
    "max_beer_value = drinks['beer_servings'].max()\n",
    "\n",
    "# Страна с максимальным потреблением вина\n",
    "max_wine_country = drinks.loc[drinks['wine_servings'].idxmax(), 'country']\n",
    "max_wine_value = drinks['wine_servings'].max()\n",
    "\n",
    "# Страна с максимальным потреблением спиртных напитков\n",
    "max_spirit_country = drinks.loc[drinks['spirit_servings'].idxmax(), 'country']\n",
    "max_spirit_value = drinks['spirit_servings'].max()\n",
    "\n",
    "# Результаты\n",
    "print(f\"Максимальное потребление пива: {max_beer_value} в {max_beer_country}\")\n",
    "print(f\"Максимальное потребление вина: {max_wine_value} в {max_wine_country}\")\n",
    "print(f\"Максимальное потребление спиртных напитков: {max_spirit_value} в {max_spirit_country}\")\n"
   ]
  },
  {
   "cell_type": "code",
   "execution_count": 83,
   "metadata": {},
   "outputs": [
    {
     "name": "stdout",
     "output_type": "stream",
     "text": [
      "Топ-10 стран по потреблению пива:\n",
      "            country  beer_servings\n",
      "117         Namibia            376\n",
      "45   Czech Republic            361\n",
      "62            Gabon            347\n",
      "65          Germany            346\n",
      "98        Lithuania            343\n",
      "135          Poland            343\n",
      "188       Venezuela            333\n",
      "81          Ireland            313\n",
      "129           Palau            306\n",
      "140         Romania            297\n",
      "\n",
      "\n",
      "Топ-10 стран по потреблению вина:\n",
      "               country  wine_servings\n",
      "61              France            370\n",
      "136           Portugal            339\n",
      "3              Andorra            312\n",
      "166        Switzerland            280\n",
      "48             Denmark            278\n",
      "156           Slovenia            276\n",
      "99          Luxembourg            271\n",
      "42             Croatia            254\n",
      "83               Italy            237\n",
      "55   Equatorial Guinea            233\n",
      "\n",
      "\n",
      "Топ-10 стран по потреблению спиртных напитков:\n",
      "                country  spirit_servings\n",
      "68              Grenada              438\n",
      "15              Belarus              373\n",
      "73                Haiti              326\n",
      "141  Russian Federation              326\n",
      "144           St. Lucia              315\n",
      "72               Guyana              302\n",
      "155            Slovakia              293\n",
      "50             Dominica              286\n",
      "169            Thailand              258\n",
      "40         Cook Islands              254\n"
     ]
    }
   ],
   "source": [
    "# Топ-10 стран по потреблению пива\n",
    "top_beer = drinks.nlargest(10, 'beer_servings')[['country', 'beer_servings']]\n",
    "print(\"Топ-10 стран по потреблению пива:\")\n",
    "print(top_beer)\n",
    "print(\"\\n\")\n",
    "\n",
    "# Топ-10 стран по потреблению вина\n",
    "top_wine = drinks.nlargest(10, 'wine_servings')[['country', 'wine_servings']]\n",
    "print(\"Топ-10 стран по потреблению вина:\")\n",
    "print(top_wine)\n",
    "print(\"\\n\")\n",
    "\n",
    "# Топ-10 стран по потреблению спиртных напитков\n",
    "top_spirits = drinks.nlargest(10, 'spirit_servings')[['country', 'spirit_servings']]\n",
    "print(\"Топ-10 стран по потреблению спиртных напитков:\")\n",
    "print(top_spirits)\n"
   ]
  },
  {
   "cell_type": "code",
   "execution_count": 81,
   "metadata": {
    "scrolled": false
   },
   "outputs": [
    {
     "data": {
      "image/png": "[encoded data removed]",
      "text/plain": [
       "<Figure size 1008x432 with 1 Axes>"
      ]
     },
     "metadata": {},
     "output_type": "display_data"
    },
    {
     "data": {
      "image/png": "[encoded data removed]",
      "text/plain": [
       "<Figure size 1008x432 with 1 Axes>"
      ]
     },
     "metadata": {},
     "output_type": "display_data"
    },
    {
     "data": {
      "image/png": "[encoded data removed]",
      "text/plain": [
       "<Figure size 1008x432 with 1 Axes>"
      ]
     },
     "metadata": {},
     "output_type": "display_data"
    }
   ],
   "source": [
    "import matplotlib.pyplot as plt\n",
    "import seaborn as sns\n",
    "\n",
    "# Графики распределения\n",
    "plt.figure(figsize=(14, 6))\n",
    "sns.barplot(x=drinks.nlargest(10, 'beer_servings')['country'], \n",
    "            y=drinks.nlargest(10, 'beer_servings')['beer_servings'], palette=\"Blues_d\")\n",
    "plt.title('Топ-10 стран по потреблению пива', fontsize=16)\n",
    "plt.ylabel('Количество порций пива', fontsize=12)\n",
    "plt.xlabel('Страна', fontsize=12)\n",
    "plt.xticks(rotation=45)\n",
    "plt.show()\n",
    "\n",
    "plt.figure(figsize=(14, 6))\n",
    "sns.barplot(x=drinks.nlargest(10, 'wine_servings')['country'], \n",
    "            y=drinks.nlargest(10, 'wine_servings')['wine_servings'], palette=\"Reds_d\")\n",
    "plt.title('Топ-10 стран по потреблению вина', fontsize=16)\n",
    "plt.ylabel('Количество порций вина', fontsize=12)\n",
    "plt.xlabel('Страна', fontsize=12)\n",
    "plt.xticks(rotation=45)\n",
    "plt.show()\n",
    "\n",
    "plt.figure(figsize=(14, 6))\n",
    "sns.barplot(x=drinks.nlargest(10, 'spirit_servings')['country'], \n",
    "            y=drinks.nlargest(10, 'spirit_servings')['spirit_servings'], palette=\"Greens_d\")\n",
    "plt.title('Топ-10 стран по потреблению спиртных напитков', fontsize=16)\n",
    "plt.ylabel('Количество порций спиртных напитков', fontsize=12)\n",
    "plt.xlabel('Страна', fontsize=12)\n",
    "plt.xticks(rotation=45)\n",
    "plt.show()\n"
   ]
  },
  {
   "cell_type": "markdown",
   "metadata": {},
   "source": [
    "<h1>Задание 3</h1> \n",
    "\n",
    "У нас есть полный каталог всех случаев, когда кто-то проклинал или истекал кровью в фильме Квентина Тарантино. \n",
    "\n",
    "Определите:\n",
    "\n",
    "* число проклятий, летальных исходов и их соотношение по фильмам \n",
    "\n",
    "* частоту употребления конкретных проклятий \n",
    "\n",
    "* распределение времени между проклятиями "
   ]
  },
  {
   "cell_type": "code",
   "execution_count": 84,
   "metadata": {},
   "outputs": [],
   "source": [
    "words = pd.read_csv('tarantino.csv')"
   ]
  },
  {
   "cell_type": "code",
   "execution_count": 85,
   "metadata": {},
   "outputs": [
    {
     "name": "stdout",
     "output_type": "stream",
     "text": [
      "<class 'pandas.core.frame.DataFrame'>\n",
      "RangeIndex: 1894 entries, 0 to 1893\n",
      "Data columns (total 4 columns):\n",
      " #   Column      Non-Null Count  Dtype  \n",
      "---  ------      --------------  -----  \n",
      " 0   movie       1894 non-null   object \n",
      " 1   type        1894 non-null   object \n",
      " 2   word        1704 non-null   object \n",
      " 3   minutes_in  1894 non-null   float64\n",
      "dtypes: float64(1), object(3)\n",
      "memory usage: 59.3+ KB\n"
     ]
    }
   ],
   "source": [
    "words.info()"
   ]
  },
  {
   "cell_type": "code",
   "execution_count": 86,
   "metadata": {},
   "outputs": [
    {
     "data": {
      "text/plain": [
       "Index(['movie', 'type', 'word', 'minutes_in'], dtype='object')"
      ]
     },
     "execution_count": 86,
     "metadata": {},
     "output_type": "execute_result"
    }
   ],
   "source": [
    "words.columns"
   ]
  },
  {
   "cell_type": "code",
   "execution_count": 93,
   "metadata": {},
   "outputs": [
    {
     "data": {
      "text/plain": [
       "array(['dick', 'dicks', 'fucked', 'fucking', 'bullshit', 'fuck', 'shit',\n",
       "       'motherfucker', 'pussy', 'fucks', 'hell', 'jap', 'bastard',\n",
       "       'goddamn', 'motherfuckers', 'asshole', 'ass', 'assholes',\n",
       "       'n-word ', 'asses', 'bitch', 'fuckup', 'fucker', 'shitty',\n",
       "       'asshead', 'damn', nan, 'damned', 'bitches', 'wetback', 'faggot',\n",
       "       'cocksucker', 'gook', 'fuckers', 'gooks', 'motherfucking',\n",
       "       'dickless', 'chickenshit', 'slope', 'fuckhead', 'merde',\n",
       "       'shithead', 'cunt', 'cunts', 'fuckface', 'cockblockery', 'japs',\n",
       "       'jew (verb)', 'bastards', 'horeshit', 'shitless', 'shitting',\n",
       "       'negro ', 'squaw', 'slut', 'goddamned', 'jackass', 'horseshit',\n",
       "       'shittiest', 'shitload', 'dumbass'], dtype=object)"
      ]
     },
     "execution_count": 93,
     "metadata": {},
     "output_type": "execute_result"
    }
   ],
   "source": [
    "words['word'].unique()"
   ]
  },
  {
   "cell_type": "markdown",
   "metadata": {},
   "source": [
    "Для некоторого упрощения будем считать каждое ругательство (кроме нулл значения) уникальным"
   ]
  },
  {
   "cell_type": "code",
   "execution_count": 94,
   "metadata": {},
   "outputs": [
    {
     "data": {
      "text/plain": [
       "array(['word', 'death'], dtype=object)"
      ]
     },
     "execution_count": 94,
     "metadata": {},
     "output_type": "execute_result"
    }
   ],
   "source": [
    "words['type'].unique()"
   ]
  },
  {
   "cell_type": "markdown",
   "metadata": {},
   "source": [
    "<h3>1. Определить число проклятий, летальных исходов и их соотношение по фильмам</h3>"
   ]
  },
  {
   "cell_type": "code",
   "execution_count": 95,
   "metadata": {},
   "outputs": [
    {
     "name": "stdout",
     "output_type": "stream",
     "text": [
      "type                 word  death      ratio\n",
      "movie                                      \n",
      "Django Unchained      262     47   5.574468\n",
      "Inglorious Basterds    58     48   1.208333\n",
      "Jackie Brown          368      4  92.000000\n",
      "Kill Bill: Vol. 1      57     63   0.904762\n",
      "Kill Bill: Vol. 2      69     11   6.272727\n",
      "Pulp Fiction          469      7  67.000000\n",
      "Reservoir Dogs        421     10  42.100000\n"
     ]
    }
   ],
   "source": [
    "# Подсчитаем количество проклятий (word) и смертей (death) по фильмам\n",
    "curse_deaths_count = words.groupby(['movie', 'type']).size().unstack(fill_value=0)\n",
    "\n",
    "# Рассчитаем соотношение проклятий и смертей\n",
    "curse_deaths_count['ratio'] = curse_deaths_count['word'] / curse_deaths_count['death']\n",
    "\n",
    "# Выводим результат\n",
    "print(curse_deaths_count[['word', 'death', 'ratio']])\n",
    "\n"
   ]
  },
  {
   "cell_type": "markdown",
   "metadata": {},
   "source": [
    "<h3>2. Определить частоту употребления конкретных проклятий</h3>"
   ]
  },
  {
   "cell_type": "code",
   "execution_count": 96,
   "metadata": {},
   "outputs": [
    {
     "name": "stdout",
     "output_type": "stream",
     "text": [
      "fucking          407\n",
      "shit             221\n",
      "fuck             213\n",
      "n-word           179\n",
      "ass              140\n",
      "goddamn          113\n",
      "motherfucker      70\n",
      "bitch             64\n",
      "hell              45\n",
      "damn              37\n",
      "motherfucking     27\n",
      "fucked            25\n",
      "bullshit          15\n",
      "motherfuckers     15\n",
      "dick              14\n",
      "pussy             11\n",
      "asshole           10\n",
      "bastard           10\n",
      "bitches            9\n",
      "fucker             8\n",
      "assholes           5\n",
      "negro              5\n",
      "dicks              5\n",
      "asses              4\n",
      "shitty             4\n",
      "damned             3\n",
      "fucks              3\n",
      "shithead           3\n",
      "horseshit          2\n",
      "gooks              2\n",
      "japs               2\n",
      "cunt               2\n",
      "shitload           2\n",
      "cocksucker         2\n",
      "wetback            2\n",
      "fuckers            1\n",
      "horeshit           1\n",
      "jap                1\n",
      "shittiest          1\n",
      "fuckup             1\n",
      "jackass            1\n",
      "goddamned          1\n",
      "slut               1\n",
      "squaw              1\n",
      "asshead            1\n",
      "shitting           1\n",
      "shitless           1\n",
      "bastards           1\n",
      "dickless           1\n",
      "jew (verb)         1\n",
      "cockblockery       1\n",
      "fuckface           1\n",
      "cunts              1\n",
      "faggot             1\n",
      "gook               1\n",
      "merde              1\n",
      "fuckhead           1\n",
      "slope              1\n",
      "chickenshit        1\n",
      "dumbass            1\n",
      "Name: word, dtype: int64\n"
     ]
    }
   ],
   "source": [
    "# Фильтруем строки с проклятиями (type == 'word')\n",
    "curse_words = words[words['type'] == 'word']\n",
    "\n",
    "# Подсчитаем частоту употребления каждого проклятия\n",
    "curse_frequency = curse_words['word'].value_counts()\n",
    "\n",
    "# Выводим результат\n",
    "print(curse_frequency)\n"
   ]
  },
  {
   "cell_type": "markdown",
   "metadata": {},
   "source": [
    "<h3> 3. Распределение времени между проклятиями</h3>"
   ]
  },
  {
   "cell_type": "code",
   "execution_count": 102,
   "metadata": {
    "scrolled": false
   },
   "outputs": [
    {
     "name": "stdout",
     "output_type": "stream",
     "text": [
      "                 movie  time_diff\n",
      "0     Django Unchained   0.586398\n",
      "1  Inglorious Basterds   2.219825\n",
      "2         Jackie Brown   0.377629\n",
      "3    Kill Bill: Vol. 1   1.660357\n",
      "4    Kill Bill: Vol. 2   1.741176\n",
      "5         Pulp Fiction   0.315449\n",
      "6       Reservoir Dogs   0.226024\n"
     ]
    },
    {
     "data": {
      "image/png": "[encoded data removed]",
      "text/plain": [
       "<Figure size 1008x504 with 1 Axes>"
      ]
     },
     "metadata": {},
     "output_type": "display_data"
    }
   ],
   "source": [
    "# Фильтруем строки с проклятиями (type == 'word')\n",
    "curse_words = words[words['type'] == 'word'].copy()  # Создаем явную копию данных\n",
    "\n",
    "# Рассчитываем разницу во времени между проклятиями для каждого фильма\n",
    "curse_words['time_diff'] = curse_words.groupby('movie')['minutes_in'].diff()\n",
    "\n",
    "# Убираем NaN, так как первое проклятие в фильме не имеет предыдущего\n",
    "curse_words_clean = curse_words.dropna(subset=['time_diff'])\n",
    "\n",
    "# Теперь получаем время между проклятиями по каждому фильму\n",
    "time_between_curses = curse_words_clean.groupby('movie')['time_diff'].mean().reset_index()\n",
    "\n",
    "# Выводим данные для каждого фильма\n",
    "print(time_between_curses)\n",
    "\n",
    "# Построим столбчатый график времени между проклятиями по фильмам\n",
    "plt.figure(figsize=(14, 7))\n",
    "sns.barplot(x='movie', y='time_diff', data=time_between_curses, palette=\"viridis\")\n",
    "plt.xticks(rotation=90)\n",
    "plt.title('Среднее время между проклятиями в фильмах', fontsize=16)\n",
    "plt.xlabel('Фильм', fontsize=12)\n",
    "plt.ylabel('Среднее время между проклятиями (в минутах)', fontsize=12)\n",
    "plt.show()"
   ]
  },
  {
   "cell_type": "code",
   "execution_count": 117,
   "metadata": {},
   "outputs": [
    {
     "name": "stdout",
     "output_type": "stream",
     "text": [
      "Топ-20 самых частых временных промежутков между проклятиями:\n",
      "0.05    142\n",
      "0.02    119\n",
      "0.03    112\n",
      "0.10     86\n",
      "0.00     81\n",
      "0.07     67\n",
      "0.01     66\n",
      "0.04     59\n",
      "0.08     51\n",
      "0.12     40\n",
      "0.15     40\n",
      "0.06     35\n",
      "0.25     32\n",
      "0.13     30\n",
      "0.17     25\n",
      "0.09     25\n",
      "0.14     24\n",
      "0.20     21\n",
      "0.11     20\n",
      "0.18     17\n",
      "Name: time_diff, dtype: int64\n"
     ]
    },
    {
     "data": {
      "image/png": "[encoded data removed]",
      "text/plain": [
       "<Figure size 864x432 with 1 Axes>"
      ]
     },
     "metadata": {},
     "output_type": "display_data"
    }
   ],
   "source": [
    "curse_words = words[words['type'] == 'word'].copy()\n",
    "\n",
    "# Рассчитываем разницу во времени между проклятиями для каждого фильма\n",
    "curse_words['time_diff'] = curse_words.groupby('movie')['minutes_in'].diff()\n",
    "\n",
    "# Убираем NaN, так как первое проклятие в фильме не имеет предыдущего\n",
    "curse_words_clean = curse_words.dropna(subset=['time_diff'])\n",
    "\n",
    "# Округляем значения time_diff до трех десятичных знаков\n",
    "curse_words_round['time_diff'] = curse_words_clean['time_diff'].round(3)\n",
    "\n",
    "# Считаем частоту использования разных временных промежутков\n",
    "time_diff_frequency = curse_words_round['time_diff'].value_counts().nlargest(20)\n",
    "\n",
    "# Выводим топ-20 временных промежутков\n",
    "print(\"Топ-20 самых частых временных промежутков между проклятиями:\")\n",
    "print(time_diff_frequency)\n",
    "\n",
    "# Построим столбчатую диаграмму для топ-20 самых частых временных промежутков\n",
    "plt.figure(figsize=(12, 6))\n",
    "sns.barplot(x=time_diff_frequency.index, y=time_diff_frequency.values, palette=\"Blues_d\", order=time_diff_frequency.index)\n",
    "\n",
    "# Настройки графика\n",
    "plt.title('Топ-20 самых частых временных промежутков между проклятиями', fontsize=16)\n",
    "plt.xlabel('Время между проклятиями (в минутах)', fontsize=12)\n",
    "plt.ylabel('Частота', fontsize=12)\n",
    "plt.xticks(rotation=45)\n",
    "plt.show()"
   ]
  },
  {
   "cell_type": "code",
   "execution_count": null,
   "metadata": {},
   "outputs": [],
   "source": []
  }
 ],
 "metadata": {
  "kernelspec": {
   "display_name": "Python 3 (ipykernel)",
   "language": "python",
   "name": "python3"
  },
  "language_info": {
   "codemirror_mode": {
    "name": "ipython",
    "version": 3
   },
   "file_extension": ".py",
   "mimetype": "text/x-python",
   "name": "python",
   "nbconvert_exporter": "python",
   "pygments_lexer": "ipython3",
   "version": "3.9.7"
  }
 },
 "nbformat": 4,
 "nbformat_minor": 4
}
